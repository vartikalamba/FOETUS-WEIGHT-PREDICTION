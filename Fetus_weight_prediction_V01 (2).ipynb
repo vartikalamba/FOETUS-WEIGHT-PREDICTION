{
 "cells": [
  {
   "cell_type": "markdown",
   "metadata": {},
   "source": [
    "# IMPORT LIBRARIES"
   ]
  },
  {
   "cell_type": "code",
   "execution_count": 80,
   "metadata": {},
   "outputs": [],
   "source": [
    "import pandas as pd\n",
    "import numpy as np\n",
    "import matplotlib.pyplot as plt\n",
    "from sklearn.preprocessing import StandardScaler\n",
    "from sklearn.linear_model import LinearRegression\n",
    "import sklearn.metrics as metrics\n",
    "import seaborn as sns\n",
    "import pickle"
   ]
  },
  {
   "cell_type": "markdown",
   "metadata": {},
   "source": [
    "# IMPORT DATASET"
   ]
  },
  {
   "cell_type": "code",
   "execution_count": 81,
   "metadata": {
    "scrolled": true
   },
   "outputs": [
    {
     "data": {
      "text/html": [
       "<div>\n",
       "<style scoped>\n",
       "    .dataframe tbody tr th:only-of-type {\n",
       "        vertical-align: middle;\n",
       "    }\n",
       "\n",
       "    .dataframe tbody tr th {\n",
       "        vertical-align: top;\n",
       "    }\n",
       "\n",
       "    .dataframe thead th {\n",
       "        text-align: right;\n",
       "    }\n",
       "</style>\n",
       "<table border=\"1\" class=\"dataframe\">\n",
       "  <thead>\n",
       "    <tr style=\"text-align: right;\">\n",
       "      <th></th>\n",
       "      <th>ID</th>\n",
       "      <th>SEX</th>\n",
       "      <th>MARITAL</th>\n",
       "      <th>FAGE</th>\n",
       "      <th>GAINED</th>\n",
       "      <th>VISITS</th>\n",
       "      <th>MAGE</th>\n",
       "      <th>FEDUC</th>\n",
       "      <th>MEDUC</th>\n",
       "      <th>TOTALP</th>\n",
       "      <th>...</th>\n",
       "      <th>HYPERCH</th>\n",
       "      <th>HYPERPR</th>\n",
       "      <th>ECLAMP</th>\n",
       "      <th>CERVIX</th>\n",
       "      <th>PINFANT</th>\n",
       "      <th>PRETERM</th>\n",
       "      <th>RENAL</th>\n",
       "      <th>RHSEN</th>\n",
       "      <th>UTERINE</th>\n",
       "      <th>BWEIGHT</th>\n",
       "    </tr>\n",
       "  </thead>\n",
       "  <tbody>\n",
       "    <tr>\n",
       "      <th>count</th>\n",
       "      <td>101400.000000</td>\n",
       "      <td>101400.000000</td>\n",
       "      <td>101400.000000</td>\n",
       "      <td>101400.000000</td>\n",
       "      <td>101400.000000</td>\n",
       "      <td>101400.000000</td>\n",
       "      <td>101400.000000</td>\n",
       "      <td>101400.000000</td>\n",
       "      <td>101400.000000</td>\n",
       "      <td>101400.000000</td>\n",
       "      <td>...</td>\n",
       "      <td>101400.000000</td>\n",
       "      <td>101400.000000</td>\n",
       "      <td>101400.000000</td>\n",
       "      <td>101400.000000</td>\n",
       "      <td>101400.000000</td>\n",
       "      <td>101400.000000</td>\n",
       "      <td>101400.000000</td>\n",
       "      <td>101400.000000</td>\n",
       "      <td>101400.000000</td>\n",
       "      <td>101400.000000</td>\n",
       "    </tr>\n",
       "    <tr>\n",
       "      <th>mean</th>\n",
       "      <td>52700.500000</td>\n",
       "      <td>1.485671</td>\n",
       "      <td>1.303817</td>\n",
       "      <td>30.174477</td>\n",
       "      <td>30.283037</td>\n",
       "      <td>12.436943</td>\n",
       "      <td>27.736312</td>\n",
       "      <td>12.926893</td>\n",
       "      <td>13.256489</td>\n",
       "      <td>2.378462</td>\n",
       "      <td>...</td>\n",
       "      <td>0.013767</td>\n",
       "      <td>0.050039</td>\n",
       "      <td>0.003807</td>\n",
       "      <td>0.003738</td>\n",
       "      <td>0.005680</td>\n",
       "      <td>0.008856</td>\n",
       "      <td>0.002189</td>\n",
       "      <td>0.003777</td>\n",
       "      <td>0.003442</td>\n",
       "      <td>7.258066</td>\n",
       "    </tr>\n",
       "    <tr>\n",
       "      <th>std</th>\n",
       "      <td>29271.802985</td>\n",
       "      <td>0.500349</td>\n",
       "      <td>0.459907</td>\n",
       "      <td>6.775576</td>\n",
       "      <td>13.615401</td>\n",
       "      <td>3.728901</td>\n",
       "      <td>5.957369</td>\n",
       "      <td>2.926569</td>\n",
       "      <td>2.932693</td>\n",
       "      <td>1.490272</td>\n",
       "      <td>...</td>\n",
       "      <td>0.116524</td>\n",
       "      <td>0.218027</td>\n",
       "      <td>0.061581</td>\n",
       "      <td>0.061022</td>\n",
       "      <td>0.075155</td>\n",
       "      <td>0.093689</td>\n",
       "      <td>0.046739</td>\n",
       "      <td>0.061342</td>\n",
       "      <td>0.058566</td>\n",
       "      <td>1.329461</td>\n",
       "    </tr>\n",
       "    <tr>\n",
       "      <th>min</th>\n",
       "      <td>2001.000000</td>\n",
       "      <td>1.000000</td>\n",
       "      <td>1.000000</td>\n",
       "      <td>14.000000</td>\n",
       "      <td>0.000000</td>\n",
       "      <td>0.000000</td>\n",
       "      <td>11.000000</td>\n",
       "      <td>0.000000</td>\n",
       "      <td>0.000000</td>\n",
       "      <td>1.000000</td>\n",
       "      <td>...</td>\n",
       "      <td>0.000000</td>\n",
       "      <td>0.000000</td>\n",
       "      <td>0.000000</td>\n",
       "      <td>0.000000</td>\n",
       "      <td>0.000000</td>\n",
       "      <td>0.000000</td>\n",
       "      <td>0.000000</td>\n",
       "      <td>0.000000</td>\n",
       "      <td>0.000000</td>\n",
       "      <td>0.187500</td>\n",
       "    </tr>\n",
       "    <tr>\n",
       "      <th>25%</th>\n",
       "      <td>27350.750000</td>\n",
       "      <td>1.000000</td>\n",
       "      <td>1.000000</td>\n",
       "      <td>25.000000</td>\n",
       "      <td>21.000000</td>\n",
       "      <td>10.000000</td>\n",
       "      <td>23.000000</td>\n",
       "      <td>12.000000</td>\n",
       "      <td>12.000000</td>\n",
       "      <td>1.000000</td>\n",
       "      <td>...</td>\n",
       "      <td>0.000000</td>\n",
       "      <td>0.000000</td>\n",
       "      <td>0.000000</td>\n",
       "      <td>0.000000</td>\n",
       "      <td>0.000000</td>\n",
       "      <td>0.000000</td>\n",
       "      <td>0.000000</td>\n",
       "      <td>0.000000</td>\n",
       "      <td>0.000000</td>\n",
       "      <td>6.625000</td>\n",
       "    </tr>\n",
       "    <tr>\n",
       "      <th>50%</th>\n",
       "      <td>52700.500000</td>\n",
       "      <td>1.000000</td>\n",
       "      <td>1.000000</td>\n",
       "      <td>30.000000</td>\n",
       "      <td>30.000000</td>\n",
       "      <td>12.000000</td>\n",
       "      <td>28.000000</td>\n",
       "      <td>12.000000</td>\n",
       "      <td>13.000000</td>\n",
       "      <td>2.000000</td>\n",
       "      <td>...</td>\n",
       "      <td>0.000000</td>\n",
       "      <td>0.000000</td>\n",
       "      <td>0.000000</td>\n",
       "      <td>0.000000</td>\n",
       "      <td>0.000000</td>\n",
       "      <td>0.000000</td>\n",
       "      <td>0.000000</td>\n",
       "      <td>0.000000</td>\n",
       "      <td>0.000000</td>\n",
       "      <td>7.375000</td>\n",
       "    </tr>\n",
       "    <tr>\n",
       "      <th>75%</th>\n",
       "      <td>78050.250000</td>\n",
       "      <td>2.000000</td>\n",
       "      <td>2.000000</td>\n",
       "      <td>35.000000</td>\n",
       "      <td>39.000000</td>\n",
       "      <td>15.000000</td>\n",
       "      <td>32.000000</td>\n",
       "      <td>16.000000</td>\n",
       "      <td>16.000000</td>\n",
       "      <td>3.000000</td>\n",
       "      <td>...</td>\n",
       "      <td>0.000000</td>\n",
       "      <td>0.000000</td>\n",
       "      <td>0.000000</td>\n",
       "      <td>0.000000</td>\n",
       "      <td>0.000000</td>\n",
       "      <td>0.000000</td>\n",
       "      <td>0.000000</td>\n",
       "      <td>0.000000</td>\n",
       "      <td>0.000000</td>\n",
       "      <td>8.062500</td>\n",
       "    </tr>\n",
       "    <tr>\n",
       "      <th>max</th>\n",
       "      <td>103400.000000</td>\n",
       "      <td>9.000000</td>\n",
       "      <td>2.000000</td>\n",
       "      <td>74.000000</td>\n",
       "      <td>98.000000</td>\n",
       "      <td>49.000000</td>\n",
       "      <td>53.000000</td>\n",
       "      <td>17.000000</td>\n",
       "      <td>17.000000</td>\n",
       "      <td>20.000000</td>\n",
       "      <td>...</td>\n",
       "      <td>1.000000</td>\n",
       "      <td>1.000000</td>\n",
       "      <td>1.000000</td>\n",
       "      <td>1.000000</td>\n",
       "      <td>1.000000</td>\n",
       "      <td>1.000000</td>\n",
       "      <td>1.000000</td>\n",
       "      <td>1.000000</td>\n",
       "      <td>1.000000</td>\n",
       "      <td>13.062500</td>\n",
       "    </tr>\n",
       "  </tbody>\n",
       "</table>\n",
       "<p>8 rows × 35 columns</p>\n",
       "</div>"
      ],
      "text/plain": [
       "                  ID            SEX        MARITAL           FAGE  \\\n",
       "count  101400.000000  101400.000000  101400.000000  101400.000000   \n",
       "mean    52700.500000       1.485671       1.303817      30.174477   \n",
       "std     29271.802985       0.500349       0.459907       6.775576   \n",
       "min      2001.000000       1.000000       1.000000      14.000000   \n",
       "25%     27350.750000       1.000000       1.000000      25.000000   \n",
       "50%     52700.500000       1.000000       1.000000      30.000000   \n",
       "75%     78050.250000       2.000000       2.000000      35.000000   \n",
       "max    103400.000000       9.000000       2.000000      74.000000   \n",
       "\n",
       "              GAINED         VISITS           MAGE          FEDUC  \\\n",
       "count  101400.000000  101400.000000  101400.000000  101400.000000   \n",
       "mean       30.283037      12.436943      27.736312      12.926893   \n",
       "std        13.615401       3.728901       5.957369       2.926569   \n",
       "min         0.000000       0.000000      11.000000       0.000000   \n",
       "25%        21.000000      10.000000      23.000000      12.000000   \n",
       "50%        30.000000      12.000000      28.000000      12.000000   \n",
       "75%        39.000000      15.000000      32.000000      16.000000   \n",
       "max        98.000000      49.000000      53.000000      17.000000   \n",
       "\n",
       "               MEDUC         TOTALP  ...        HYPERCH        HYPERPR  \\\n",
       "count  101400.000000  101400.000000  ...  101400.000000  101400.000000   \n",
       "mean       13.256489       2.378462  ...       0.013767       0.050039   \n",
       "std         2.932693       1.490272  ...       0.116524       0.218027   \n",
       "min         0.000000       1.000000  ...       0.000000       0.000000   \n",
       "25%        12.000000       1.000000  ...       0.000000       0.000000   \n",
       "50%        13.000000       2.000000  ...       0.000000       0.000000   \n",
       "75%        16.000000       3.000000  ...       0.000000       0.000000   \n",
       "max        17.000000      20.000000  ...       1.000000       1.000000   \n",
       "\n",
       "              ECLAMP         CERVIX        PINFANT        PRETERM  \\\n",
       "count  101400.000000  101400.000000  101400.000000  101400.000000   \n",
       "mean        0.003807       0.003738       0.005680       0.008856   \n",
       "std         0.061581       0.061022       0.075155       0.093689   \n",
       "min         0.000000       0.000000       0.000000       0.000000   \n",
       "25%         0.000000       0.000000       0.000000       0.000000   \n",
       "50%         0.000000       0.000000       0.000000       0.000000   \n",
       "75%         0.000000       0.000000       0.000000       0.000000   \n",
       "max         1.000000       1.000000       1.000000       1.000000   \n",
       "\n",
       "               RENAL          RHSEN        UTERINE        BWEIGHT  \n",
       "count  101400.000000  101400.000000  101400.000000  101400.000000  \n",
       "mean        0.002189       0.003777       0.003442       7.258066  \n",
       "std         0.046739       0.061342       0.058566       1.329461  \n",
       "min         0.000000       0.000000       0.000000       0.187500  \n",
       "25%         0.000000       0.000000       0.000000       6.625000  \n",
       "50%         0.000000       0.000000       0.000000       7.375000  \n",
       "75%         0.000000       0.000000       0.000000       8.062500  \n",
       "max         1.000000       1.000000       1.000000      13.062500  \n",
       "\n",
       "[8 rows x 35 columns]"
      ]
     },
     "execution_count": 81,
     "metadata": {},
     "output_type": "execute_result"
    }
   ],
   "source": [
    "data = pd.read_csv(\"baby-weights-dataset2.csv\")\n",
    "data.describe()"
   ]
  },
  {
   "cell_type": "markdown",
   "metadata": {},
   "source": [
    "# DATA PROCESSING & EXPLORATION"
   ]
  },
  {
   "cell_type": "code",
   "execution_count": 82,
   "metadata": {},
   "outputs": [
    {
     "data": {
      "text/html": [
       "<div>\n",
       "<style scoped>\n",
       "    .dataframe tbody tr th:only-of-type {\n",
       "        vertical-align: middle;\n",
       "    }\n",
       "\n",
       "    .dataframe tbody tr th {\n",
       "        vertical-align: top;\n",
       "    }\n",
       "\n",
       "    .dataframe thead th {\n",
       "        text-align: right;\n",
       "    }\n",
       "</style>\n",
       "<table border=\"1\" class=\"dataframe\">\n",
       "  <thead>\n",
       "    <tr style=\"text-align: right;\">\n",
       "      <th></th>\n",
       "      <th>ID</th>\n",
       "      <th>SEX</th>\n",
       "      <th>MARITAL</th>\n",
       "      <th>FAGE</th>\n",
       "      <th>GAINED</th>\n",
       "      <th>VISITS</th>\n",
       "      <th>MAGE</th>\n",
       "      <th>FEDUC</th>\n",
       "      <th>MEDUC</th>\n",
       "      <th>TOTALP</th>\n",
       "      <th>...</th>\n",
       "      <th>HYPERCH</th>\n",
       "      <th>HYPERPR</th>\n",
       "      <th>ECLAMP</th>\n",
       "      <th>CERVIX</th>\n",
       "      <th>PINFANT</th>\n",
       "      <th>PRETERM</th>\n",
       "      <th>RENAL</th>\n",
       "      <th>RHSEN</th>\n",
       "      <th>UTERINE</th>\n",
       "      <th>BWEIGHT</th>\n",
       "    </tr>\n",
       "  </thead>\n",
       "  <tbody>\n",
       "    <tr>\n",
       "      <th>0</th>\n",
       "      <td>2001</td>\n",
       "      <td>2</td>\n",
       "      <td>1</td>\n",
       "      <td>33</td>\n",
       "      <td>26</td>\n",
       "      <td>10</td>\n",
       "      <td>34</td>\n",
       "      <td>12</td>\n",
       "      <td>4</td>\n",
       "      <td>2</td>\n",
       "      <td>...</td>\n",
       "      <td>0</td>\n",
       "      <td>0</td>\n",
       "      <td>0</td>\n",
       "      <td>0</td>\n",
       "      <td>0</td>\n",
       "      <td>0</td>\n",
       "      <td>0</td>\n",
       "      <td>0</td>\n",
       "      <td>0</td>\n",
       "      <td>4.3750</td>\n",
       "    </tr>\n",
       "    <tr>\n",
       "      <th>1</th>\n",
       "      <td>2002</td>\n",
       "      <td>2</td>\n",
       "      <td>2</td>\n",
       "      <td>19</td>\n",
       "      <td>40</td>\n",
       "      <td>10</td>\n",
       "      <td>18</td>\n",
       "      <td>11</td>\n",
       "      <td>12</td>\n",
       "      <td>1</td>\n",
       "      <td>...</td>\n",
       "      <td>0</td>\n",
       "      <td>0</td>\n",
       "      <td>0</td>\n",
       "      <td>0</td>\n",
       "      <td>0</td>\n",
       "      <td>0</td>\n",
       "      <td>0</td>\n",
       "      <td>0</td>\n",
       "      <td>0</td>\n",
       "      <td>6.9375</td>\n",
       "    </tr>\n",
       "    <tr>\n",
       "      <th>2</th>\n",
       "      <td>2003</td>\n",
       "      <td>2</td>\n",
       "      <td>1</td>\n",
       "      <td>33</td>\n",
       "      <td>16</td>\n",
       "      <td>14</td>\n",
       "      <td>31</td>\n",
       "      <td>16</td>\n",
       "      <td>16</td>\n",
       "      <td>2</td>\n",
       "      <td>...</td>\n",
       "      <td>0</td>\n",
       "      <td>0</td>\n",
       "      <td>0</td>\n",
       "      <td>0</td>\n",
       "      <td>0</td>\n",
       "      <td>0</td>\n",
       "      <td>0</td>\n",
       "      <td>0</td>\n",
       "      <td>0</td>\n",
       "      <td>8.5000</td>\n",
       "    </tr>\n",
       "    <tr>\n",
       "      <th>3</th>\n",
       "      <td>2004</td>\n",
       "      <td>1</td>\n",
       "      <td>1</td>\n",
       "      <td>25</td>\n",
       "      <td>40</td>\n",
       "      <td>15</td>\n",
       "      <td>28</td>\n",
       "      <td>12</td>\n",
       "      <td>12</td>\n",
       "      <td>3</td>\n",
       "      <td>...</td>\n",
       "      <td>0</td>\n",
       "      <td>0</td>\n",
       "      <td>0</td>\n",
       "      <td>0</td>\n",
       "      <td>0</td>\n",
       "      <td>0</td>\n",
       "      <td>0</td>\n",
       "      <td>0</td>\n",
       "      <td>0</td>\n",
       "      <td>8.5000</td>\n",
       "    </tr>\n",
       "    <tr>\n",
       "      <th>4</th>\n",
       "      <td>2005</td>\n",
       "      <td>1</td>\n",
       "      <td>2</td>\n",
       "      <td>21</td>\n",
       "      <td>60</td>\n",
       "      <td>13</td>\n",
       "      <td>20</td>\n",
       "      <td>12</td>\n",
       "      <td>14</td>\n",
       "      <td>2</td>\n",
       "      <td>...</td>\n",
       "      <td>0</td>\n",
       "      <td>1</td>\n",
       "      <td>0</td>\n",
       "      <td>0</td>\n",
       "      <td>0</td>\n",
       "      <td>0</td>\n",
       "      <td>0</td>\n",
       "      <td>0</td>\n",
       "      <td>0</td>\n",
       "      <td>9.0000</td>\n",
       "    </tr>\n",
       "  </tbody>\n",
       "</table>\n",
       "<p>5 rows × 37 columns</p>\n",
       "</div>"
      ],
      "text/plain": [
       "     ID  SEX  MARITAL  FAGE  GAINED  VISITS  MAGE  FEDUC  MEDUC  TOTALP  ...  \\\n",
       "0  2001    2        1    33      26      10    34     12      4       2  ...   \n",
       "1  2002    2        2    19      40      10    18     11     12       1  ...   \n",
       "2  2003    2        1    33      16      14    31     16     16       2  ...   \n",
       "3  2004    1        1    25      40      15    28     12     12       3  ...   \n",
       "4  2005    1        2    21      60      13    20     12     14       2  ...   \n",
       "\n",
       "   HYPERCH  HYPERPR  ECLAMP  CERVIX  PINFANT  PRETERM RENAL RHSEN  UTERINE  \\\n",
       "0        0        0       0       0        0        0     0     0        0   \n",
       "1        0        0       0       0        0        0     0     0        0   \n",
       "2        0        0       0       0        0        0     0     0        0   \n",
       "3        0        0       0       0        0        0     0     0        0   \n",
       "4        0        1       0       0        0        0     0     0        0   \n",
       "\n",
       "   BWEIGHT  \n",
       "0   4.3750  \n",
       "1   6.9375  \n",
       "2   8.5000  \n",
       "3   8.5000  \n",
       "4   9.0000  \n",
       "\n",
       "[5 rows x 37 columns]"
      ]
     },
     "execution_count": 82,
     "metadata": {},
     "output_type": "execute_result"
    }
   ],
   "source": [
    "data.shape\n",
    "data[\"MARITAL\"].unique\n",
    "data.head()\n"
   ]
  },
  {
   "cell_type": "code",
   "execution_count": 83,
   "metadata": {},
   "outputs": [
    {
     "name": "stdout",
     "output_type": "stream",
     "text": [
      "<class 'pandas.core.frame.DataFrame'>\n",
      "RangeIndex: 101400 entries, 0 to 101399\n",
      "Data columns (total 37 columns):\n",
      " #   Column    Non-Null Count   Dtype  \n",
      "---  ------    --------------   -----  \n",
      " 0   ID        101400 non-null  int64  \n",
      " 1   SEX       101400 non-null  int64  \n",
      " 2   MARITAL   101400 non-null  int64  \n",
      " 3   FAGE      101400 non-null  int64  \n",
      " 4   GAINED    101400 non-null  int64  \n",
      " 5   VISITS    101400 non-null  int64  \n",
      " 6   MAGE      101400 non-null  int64  \n",
      " 7   FEDUC     101400 non-null  int64  \n",
      " 8   MEDUC     101400 non-null  int64  \n",
      " 9   TOTALP    101400 non-null  int64  \n",
      " 10  BDEAD     101400 non-null  int64  \n",
      " 11  TERMS     101400 non-null  int64  \n",
      " 12  LOUTCOME  101400 non-null  int64  \n",
      " 13  WEEKS     101400 non-null  int64  \n",
      " 14  RACEMOM   101400 non-null  int64  \n",
      " 15  RACEDAD   101400 non-null  int64  \n",
      " 16  HISPMOM   101400 non-null  object \n",
      " 17  HISPDAD   101400 non-null  object \n",
      " 18  CIGNUM    101400 non-null  int64  \n",
      " 19  DRINKNUM  101400 non-null  int64  \n",
      " 20  ANEMIA    101400 non-null  int64  \n",
      " 21  CARDIAC   101400 non-null  int64  \n",
      " 22  ACLUNG    101400 non-null  int64  \n",
      " 23  DIABETES  101400 non-null  int64  \n",
      " 24  HERPES    101400 non-null  int64  \n",
      " 25  HYDRAM    101400 non-null  int64  \n",
      " 26  HEMOGLOB  101400 non-null  int64  \n",
      " 27  HYPERCH   101400 non-null  int64  \n",
      " 28  HYPERPR   101400 non-null  int64  \n",
      " 29  ECLAMP    101400 non-null  int64  \n",
      " 30  CERVIX    101400 non-null  int64  \n",
      " 31  PINFANT   101400 non-null  int64  \n",
      " 32  PRETERM   101400 non-null  int64  \n",
      " 33  RENAL     101400 non-null  int64  \n",
      " 34  RHSEN     101400 non-null  int64  \n",
      " 35  UTERINE   101400 non-null  int64  \n",
      " 36  BWEIGHT   101400 non-null  float64\n",
      "dtypes: float64(1), int64(34), object(2)\n",
      "memory usage: 28.6+ MB\n"
     ]
    }
   ],
   "source": [
    "data.info()"
   ]
  },
  {
   "cell_type": "code",
   "execution_count": 84,
   "metadata": {},
   "outputs": [
    {
     "name": "stdout",
     "output_type": "stream",
     "text": [
      "number of duplicate rows:(0, 37)\n"
     ]
    }
   ],
   "source": [
    "duplicate_rows_df = data[data.duplicated()]\n",
    "print(f\"number of duplicate rows:{ duplicate_rows_df.shape}\")"
   ]
  },
  {
   "cell_type": "code",
   "execution_count": 85,
   "metadata": {},
   "outputs": [
    {
     "data": {
      "text/plain": [
       "count    101400.000000\n",
       "mean          7.258066\n",
       "std           1.329461\n",
       "min           0.187500\n",
       "25%           6.625000\n",
       "50%           7.375000\n",
       "75%           8.062500\n",
       "max          13.062500\n",
       "Name: BWEIGHT, dtype: float64"
      ]
     },
     "execution_count": 85,
     "metadata": {},
     "output_type": "execute_result"
    }
   ],
   "source": [
    "data[\"BWEIGHT\"].describe()"
   ]
  },
  {
   "cell_type": "markdown",
   "metadata": {},
   "source": [
    "# VISUALIZATION"
   ]
  },
  {
   "cell_type": "code",
   "execution_count": 86,
   "metadata": {},
   "outputs": [
    {
     "data": {
      "text/plain": [
       "(array([5.7000e+01, 2.6700e+02, 3.4400e+02, 4.0200e+02, 6.2400e+02,\n",
       "        1.0100e+03, 1.9450e+03, 4.0370e+03, 9.3740e+03, 1.8477e+04,\n",
       "        2.7642e+04, 2.0396e+04, 1.1026e+04, 4.1670e+03, 1.2310e+03,\n",
       "        3.1200e+02, 7.0000e+01, 1.5000e+01, 4.0000e+00, 0.0000e+00]),\n",
       " array([ 0. ,  0.7,  1.4,  2.1,  2.8,  3.5,  4.2,  4.9,  5.6,  6.3,  7. ,\n",
       "         7.7,  8.4,  9.1,  9.8, 10.5, 11.2, 11.9, 12.6, 13.3, 14. ]),\n",
       " <BarContainer object of 20 artists>)"
      ]
     },
     "execution_count": 86,
     "metadata": {},
     "output_type": "execute_result"
    },
    {
     "data": {
      "image/png": "[encoded data removed]",
      "text/plain": [
       "<Figure size 432x288 with 1 Axes>"
      ]
     },
     "metadata": {
      "needs_background": "light"
     },
     "output_type": "display_data"
    }
   ],
   "source": [
    "plt.hist(data[\"BWEIGHT\"],bins= 20,range=[0,14])"
   ]
  },
  {
   "cell_type": "code",
   "execution_count": 87,
   "metadata": {},
   "outputs": [
    {
     "data": {
      "text/plain": [
       "<AxesSubplot:xlabel='BWEIGHT'>"
      ]
     },
     "execution_count": 87,
     "metadata": {},
     "output_type": "execute_result"
    },
    {
     "data": {
      "image/png": "[encoded data removed]",
      "text/plain": [
       "<Figure size 432x288 with 1 Axes>"
      ]
     },
     "metadata": {
      "needs_background": "light"
     },
     "output_type": "display_data"
    }
   ],
   "source": [
    "sns.boxplot(x=data[\"BWEIGHT\"])"
   ]
  },
  {
   "cell_type": "code",
   "execution_count": 88,
   "metadata": {},
   "outputs": [
    {
     "name": "stdout",
     "output_type": "stream",
     "text": [
      "Skewness: -0.936593\n",
      "Kurtosis: 2.868780\n"
     ]
    }
   ],
   "source": [
    "print(\"Skewness: %f\" % data['BWEIGHT'].skew())\n",
    "print(\"Kurtosis: %f\" % data['BWEIGHT'].kurt())"
   ]
  },
  {
   "cell_type": "markdown",
   "metadata": {},
   "source": [
    "# QUALITATIVE & QUANTITATIVE CATAGORIES"
   ]
  },
  {
   "cell_type": "code",
   "execution_count": 89,
   "metadata": {},
   "outputs": [
    {
     "name": "stdout",
     "output_type": "stream",
     "text": [
      "quantitative : ['SEX', 'MARITAL', 'FAGE', 'GAINED', 'VISITS', 'MAGE', 'FEDUC', 'MEDUC', 'TOTALP', 'BDEAD', 'TERMS', 'LOUTCOME', 'WEEKS', 'RACEMOM', 'RACEDAD', 'CIGNUM', 'DRINKNUM', 'ANEMIA', 'CARDIAC', 'ACLUNG', 'DIABETES', 'HERPES', 'HYDRAM', 'HEMOGLOB', 'HYPERCH', 'HYPERPR', 'ECLAMP', 'CERVIX', 'PINFANT', 'PRETERM', 'RENAL', 'RHSEN', 'UTERINE']\n",
      "qualitative : ['HISPMOM', 'HISPDAD']\n"
     ]
    }
   ],
   "source": [
    "quantitative = [f for f in data.columns if data.dtypes[f] != 'object']\n",
    "quantitative.remove('BWEIGHT')\n",
    "quantitative.remove('ID')\n",
    "categorial = [f for f in data.columns if data.dtypes[f] == 'object']\n",
    "print('quantitative :',quantitative)\n",
    "print('qualitative :',categorial)"
   ]
  },
  {
   "cell_type": "code",
   "execution_count": 90,
   "metadata": {},
   "outputs": [
    {
     "name": "stdout",
     "output_type": "stream",
     "text": [
      "ID          0\n",
      "SEX         0\n",
      "MARITAL     0\n",
      "FAGE        0\n",
      "GAINED      0\n",
      "VISITS      0\n",
      "MAGE        0\n",
      "FEDUC       0\n",
      "MEDUC       0\n",
      "TOTALP      0\n",
      "BDEAD       0\n",
      "TERMS       0\n",
      "LOUTCOME    0\n",
      "WEEKS       0\n",
      "RACEMOM     0\n",
      "RACEDAD     0\n",
      "HISPMOM     0\n",
      "HISPDAD     0\n",
      "CIGNUM      0\n",
      "DRINKNUM    0\n",
      "ANEMIA      0\n",
      "CARDIAC     0\n",
      "ACLUNG      0\n",
      "DIABETES    0\n",
      "HERPES      0\n",
      "HYDRAM      0\n",
      "HEMOGLOB    0\n",
      "HYPERCH     0\n",
      "HYPERPR     0\n",
      "ECLAMP      0\n",
      "CERVIX      0\n",
      "PINFANT     0\n",
      "PRETERM     0\n",
      "RENAL       0\n",
      "RHSEN       0\n",
      "UTERINE     0\n",
      "BWEIGHT     0\n",
      "dtype: int64\n"
     ]
    }
   ],
   "source": [
    "print(data.isnull().sum())"
   ]
  },
  {
   "cell_type": "markdown",
   "metadata": {},
   "source": [
    "# MISSING VALUE CORRECTION"
   ]
  },
  {
   "cell_type": "code",
   "execution_count": 91,
   "metadata": {},
   "outputs": [
    {
     "name": "stdout",
     "output_type": "stream",
     "text": [
      "0         M\n",
      "1         N\n",
      "2         N\n",
      "3         N\n",
      "4         N\n",
      "         ..\n",
      "101395    M\n",
      "101396    N\n",
      "101397    N\n",
      "101398    N\n",
      "101399    N\n",
      "Name: HISPMOM, Length: 101400, dtype: category\n",
      "Categories (7, object): ['C', 'M', 'N', 'O', 'P', 'S', 'U']\n",
      "0         M\n",
      "1         N\n",
      "2         N\n",
      "3         N\n",
      "4         N\n",
      "         ..\n",
      "101395    M\n",
      "101396    N\n",
      "101397    N\n",
      "101398    N\n",
      "101399    N\n",
      "Name: HISPDAD, Length: 101400, dtype: category\n",
      "Categories (7, object): ['C', 'M', 'N', 'O', 'P', 'S', 'U']\n"
     ]
    }
   ],
   "source": [
    "for c in categorial:\n",
    "    data[c] = data[c].astype('category')\n",
    "    print(data[c])\n",
    "    if data[c].isnull().any():\n",
    "        data[c] = data[c].cat.add_categories(['MISSING'])\n",
    "        data[c] = data[c].fillna('MISSING')\n",
    "        print(data[c])"
   ]
  },
  {
   "cell_type": "markdown",
   "metadata": {},
   "source": [
    "# ENCODING QUALITATIVE CATAGORIES"
   ]
  },
  {
   "cell_type": "code",
   "execution_count": 92,
   "metadata": {},
   "outputs": [
    {
     "name": "stdout",
     "output_type": "stream",
     "text": [
      "['HISPMOM_E', 'HISPDAD_E']\n"
     ]
    },
    {
     "data": {
      "text/plain": [
       "list"
      ]
     },
     "execution_count": 92,
     "metadata": {},
     "output_type": "execute_result"
    }
   ],
   "source": [
    "#Encode the qualitative variable as HISPMOM_E and HISPDAD_E\n",
    "def encode(frame, feature):\n",
    "    ordering = pd.DataFrame()\n",
    "    ordering['val'] = frame[feature].unique()\n",
    "    ordering.index = ordering.val\n",
    "    ordering['spmean'] = frame[[feature, 'BWEIGHT']].groupby(feature).mean()['BWEIGHT']\n",
    "    ordering = ordering.sort_values('spmean')\n",
    "    ordering['ordering'] = range(1, ordering.shape[0]+1)\n",
    "    ordering = ordering['ordering'].to_dict()\n",
    "    for cat, o in ordering.items():\n",
    "        frame.loc[frame[feature] == cat, feature+'_E'] = o\n",
    "cat_encoded = []\n",
    "for q in categorial:  \n",
    "    encode(data, q)\n",
    "    cat_encoded.append(q+'_E')\n",
    "print(cat_encoded)\n",
    "type(categorial)"
   ]
  },
  {
   "cell_type": "code",
   "execution_count": 93,
   "metadata": {},
   "outputs": [],
   "source": [
    "Feature = quantitative + cat_encoded\n",
    "new_data = data[Feature]"
   ]
  },
  {
   "cell_type": "markdown",
   "metadata": {},
   "source": [
    "# FINDING CORRELATION FOR BEST ATTRIBUTES"
   ]
  },
  {
   "cell_type": "code",
   "execution_count": 94,
   "metadata": {},
   "outputs": [
    {
     "data": {
      "image/png": "[encoded data removed]",
      "text/plain": [
       "<Figure size 432x594 with 1 Axes>"
      ]
     },
     "metadata": {
      "needs_background": "light"
     },
     "output_type": "display_data"
    }
   ],
   "source": [
    "def spearman(frame, Feature):\n",
    "    spr = pd.DataFrame()\n",
    "    spr['feature'] = Feature\n",
    "    spr['spearman'] = [frame[f].corr(frame['BWEIGHT'], 'spearman') for f in Feature]\n",
    "    spr = spr.sort_values('spearman')\n",
    "    plt.figure(figsize=(6, 0.25*len(Feature)))\n",
    "    sns.barplot(data=spr, y='feature', x='spearman', orient='h')\n",
    "    return \n",
    "Feature = quantitative \n",
    "spearman(data, Feature)"
   ]
  },
  {
   "cell_type": "code",
   "execution_count": 95,
   "metadata": {},
   "outputs": [
    {
     "data": {
      "text/html": [
       "<div>\n",
       "<style scoped>\n",
       "    .dataframe tbody tr th:only-of-type {\n",
       "        vertical-align: middle;\n",
       "    }\n",
       "\n",
       "    .dataframe tbody tr th {\n",
       "        vertical-align: top;\n",
       "    }\n",
       "\n",
       "    .dataframe thead th {\n",
       "        text-align: right;\n",
       "    }\n",
       "</style>\n",
       "<table border=\"1\" class=\"dataframe\">\n",
       "  <thead>\n",
       "    <tr style=\"text-align: right;\">\n",
       "      <th></th>\n",
       "      <th>WEEKS</th>\n",
       "      <th>GAINED</th>\n",
       "      <th>RACEMOM</th>\n",
       "      <th>RACEDAD</th>\n",
       "      <th>VISITS</th>\n",
       "      <th>MAGE</th>\n",
       "      <th>MEDUC</th>\n",
       "      <th>CIGNUM</th>\n",
       "      <th>MARITAL</th>\n",
       "      <th>SEX</th>\n",
       "    </tr>\n",
       "  </thead>\n",
       "  <tbody>\n",
       "    <tr>\n",
       "      <th>0</th>\n",
       "      <td>35</td>\n",
       "      <td>26</td>\n",
       "      <td>1</td>\n",
       "      <td>1</td>\n",
       "      <td>10</td>\n",
       "      <td>34</td>\n",
       "      <td>4</td>\n",
       "      <td>0</td>\n",
       "      <td>1</td>\n",
       "      <td>2</td>\n",
       "    </tr>\n",
       "    <tr>\n",
       "      <th>1</th>\n",
       "      <td>41</td>\n",
       "      <td>40</td>\n",
       "      <td>1</td>\n",
       "      <td>1</td>\n",
       "      <td>10</td>\n",
       "      <td>18</td>\n",
       "      <td>12</td>\n",
       "      <td>0</td>\n",
       "      <td>2</td>\n",
       "      <td>2</td>\n",
       "    </tr>\n",
       "    <tr>\n",
       "      <th>2</th>\n",
       "      <td>39</td>\n",
       "      <td>16</td>\n",
       "      <td>1</td>\n",
       "      <td>1</td>\n",
       "      <td>14</td>\n",
       "      <td>31</td>\n",
       "      <td>16</td>\n",
       "      <td>0</td>\n",
       "      <td>1</td>\n",
       "      <td>2</td>\n",
       "    </tr>\n",
       "    <tr>\n",
       "      <th>3</th>\n",
       "      <td>38</td>\n",
       "      <td>40</td>\n",
       "      <td>8</td>\n",
       "      <td>1</td>\n",
       "      <td>15</td>\n",
       "      <td>28</td>\n",
       "      <td>12</td>\n",
       "      <td>0</td>\n",
       "      <td>1</td>\n",
       "      <td>1</td>\n",
       "    </tr>\n",
       "    <tr>\n",
       "      <th>4</th>\n",
       "      <td>40</td>\n",
       "      <td>60</td>\n",
       "      <td>2</td>\n",
       "      <td>2</td>\n",
       "      <td>13</td>\n",
       "      <td>20</td>\n",
       "      <td>14</td>\n",
       "      <td>0</td>\n",
       "      <td>2</td>\n",
       "      <td>1</td>\n",
       "    </tr>\n",
       "  </tbody>\n",
       "</table>\n",
       "</div>"
      ],
      "text/plain": [
       "   WEEKS  GAINED  RACEMOM  RACEDAD  VISITS  MAGE  MEDUC  CIGNUM  MARITAL  SEX\n",
       "0     35      26        1        1      10    34      4       0        1    2\n",
       "1     41      40        1        1      10    18     12       0        2    2\n",
       "2     39      16        1        1      14    31     16       0        1    2\n",
       "3     38      40        8        1      15    28     12       0        1    1\n",
       "4     40      60        2        2      13    20     14       0        2    1"
      ]
     },
     "execution_count": 95,
     "metadata": {},
     "output_type": "execute_result"
    }
   ],
   "source": [
    "Correlated_Feature = [\"WEEKS\",\"GAINED\",\"RACEMOM\",\"RACEDAD\",\"VISITS\",\"MAGE\",\"MEDUC\",\"CIGNUM\",\"MARITAL\",\"SEX\"]\n",
    "new_data = new_data[Correlated_Feature]\n",
    "new_data.head()\n"
   ]
  },
  {
   "cell_type": "markdown",
   "metadata": {},
   "source": [
    "# SPLITTING DATASET"
   ]
  },
  {
   "cell_type": "code",
   "execution_count": 96,
   "metadata": {},
   "outputs": [
    {
     "name": "stdout",
     "output_type": "stream",
     "text": [
      "       BWEIGHT\n",
      "1072    8.8125\n",
      "65946   6.0000\n",
      "70393   6.7500\n",
      "2599   10.4375\n",
      "67617   7.3750\n",
      "32787   6.0000\n",
      "10894   7.4375\n",
      "95293   7.1875\n",
      "23073   8.3125\n",
      "42819   7.6250\n"
     ]
    },
    {
     "data": {
      "text/plain": [
       "(81120, 10)"
      ]
     },
     "execution_count": 96,
     "metadata": {},
     "output_type": "execute_result"
    }
   ],
   "source": [
    "from sklearn.model_selection import train_test_split\n",
    "ATrain, ATest = train_test_split(new_data, test_size=0.2, random_state=12345)\n",
    "BTrain, BTest = train_test_split(data[[\"BWEIGHT\"]], test_size=0.2, random_state=12345)\n",
    "print(BTest.head(10))\n",
    "ATrain.shape"
   ]
  },
  {
   "cell_type": "markdown",
   "metadata": {},
   "source": [
    "# APPLYING LINEAR REGRESSION"
   ]
  },
  {
   "cell_type": "code",
   "execution_count": 97,
   "metadata": {},
   "outputs": [
    {
     "data": {
      "text/plain": [
       "LinearRegression()"
      ]
     },
     "execution_count": 97,
     "metadata": {},
     "output_type": "execute_result"
    }
   ],
   "source": [
    "reg = LinearRegression()\n",
    "reg.fit(ATrain,BTrain)"
   ]
  },
  {
   "cell_type": "code",
   "execution_count": 98,
   "metadata": {},
   "outputs": [
    {
     "name": "stdout",
     "output_type": "stream",
     "text": [
      "[-4.17005105]\n",
      "[[ 0.29355879  0.01142737 -0.0381102  -0.04378209  0.00809627  0.01815995\n",
      "  -0.00988332 -0.03314977 -0.17627039 -0.2626519 ]]\n"
     ]
    }
   ],
   "source": [
    "print(reg.intercept_)\n",
    "print(reg.coef_)"
   ]
  },
  {
   "cell_type": "code",
   "execution_count": 99,
   "metadata": {},
   "outputs": [
    {
     "name": "stdout",
     "output_type": "stream",
     "text": [
      "[0.21593914]\n",
      "[9.61734902]\n"
     ]
    }
   ],
   "source": [
    "BPred = reg.predict(ATest)\n",
    "print(min(BPred))\n",
    "print(max(BPred))"
   ]
  },
  {
   "cell_type": "code",
   "execution_count": 100,
   "metadata": {},
   "outputs": [
    {
     "name": "stdout",
     "output_type": "stream",
     "text": [
      "BWEIGHT    1.054987\n",
      "dtype: float64\n"
     ]
    }
   ],
   "source": [
    "def error(actual, predicted):\n",
    "    return np.sqrt(np.sum(np.square(actual-predicted))/len(actual))\n",
    "print(error(BTest, BPred))"
   ]
  },
  {
   "cell_type": "markdown",
   "metadata": {},
   "source": [
    "# ERROR ANALYSIS"
   ]
  },
  {
   "cell_type": "code",
   "execution_count": 101,
   "metadata": {},
   "outputs": [
    {
     "name": "stdout",
     "output_type": "stream",
     "text": [
      "Mean Absolute Error: 0.8248882946284117\n",
      "Mean Squared Error: 1.1129980311534882\n",
      "Root Mean Squared Error: 1.0549872184787303\n"
     ]
    }
   ],
   "source": [
    "print('Mean Absolute Error:', metrics.mean_absolute_error(BTest, BPred))  \n",
    "print('Mean Squared Error:', metrics.mean_squared_error(BTest, BPred))  \n",
    "print('Root Mean Squared Error:', np.sqrt(metrics.mean_squared_error(BTest, BPred)))"
   ]
  },
  {
   "cell_type": "markdown",
   "metadata": {},
   "source": [
    "# MAKING GUI BY TKINTER FOR REAL-TIME ANALYSIS"
   ]
  },
  {
   "cell_type": "code",
   "execution_count": 102,
   "metadata": {},
   "outputs": [],
   "source": [
    "import tkinter as tk"
   ]
  },
  {
   "cell_type": "code",
   "execution_count": 103,
   "metadata": {},
   "outputs": [],
   "source": [
    "from tkinter import ttk,messagebox"
   ]
  },
  {
   "cell_type": "code",
   "execution_count": 104,
   "metadata": {},
   "outputs": [],
   "source": [
    "win = tk.Tk()"
   ]
  },
  {
   "cell_type": "markdown",
   "metadata": {},
   "source": [
    "# GUI FEATURES , LOADING MODEL & PREDICTION"
   ]
  },
  {
   "cell_type": "code",
   "execution_count": 105,
   "metadata": {},
   "outputs": [
    {
     "name": "stdout",
     "output_type": "stream",
     "text": [
      "[2.88837079]\n"
     ]
    }
   ],
   "source": [
    "win.title(\"FETUS WEIGHT PREDICTION\")\n",
    "win.geometry(\"500x500\")\n",
    "#Column 1\n",
    "WEEKS=ttk.Label(win,text=\"WEEKS\")\n",
    "WEEKS.place(x=20,y=20)\n",
    "WEEKS_var=tk.StringVar()\n",
    "WEEKS_entrybox=ttk.Entry(win,width=50,textvariable=WEEKS_var)\n",
    "WEEKS_entrybox.place(x=100,y=20)\n",
    "#Column 2\n",
    "GAINED=ttk.Label(win,text=\"GAINED\")\n",
    "GAINED.place(x=20,y=50)\n",
    "GAINED_var=tk.StringVar()\n",
    "GAINED_entrybox=ttk.Entry(win,width=50,textvariable=GAINED_var)\n",
    "GAINED_entrybox.place(x=100,y=50)\n",
    "#Column 3\n",
    "RACEMOM=ttk.Label(win,text=\"RACEMOM\")\n",
    "RACEMOM.place(x=20,y=80)\n",
    "RACEMOM_var=tk.StringVar()\n",
    "RACEMOM_entrybox=ttk.Entry(win,width=50,textvariable=RACEMOM_var)\n",
    "RACEMOM_entrybox.place(x=100,y=80)\n",
    "#Column 4\n",
    "RACEDAD=ttk.Label(win,text=\"RACEDAD\")\n",
    "RACEDAD.place(x=20,y=110)\n",
    "RACEDAD_var=tk.StringVar()\n",
    "RACEDAD_entrybox=ttk.Entry(win,width=50,textvariable=RACEDAD_var)\n",
    "RACEDAD_entrybox.place(x=100,y=110)\n",
    "#Column 5\n",
    "VISITS=ttk.Label(win,text=\"VISITS\")\n",
    "VISITS.place(x=20,y=140)\n",
    "VISITS_var=tk.StringVar()\n",
    "VISITS_entrybox=ttk.Entry(win,width=50,textvariable=VISITS_var)\n",
    "VISITS_entrybox.place(x=100,y=140)\n",
    "#Column 6\n",
    "MAGE=ttk.Label(win,text=\"MAGE\")\n",
    "MAGE.place(x=20,y=170)\n",
    "MAGE_var=tk.StringVar()\n",
    "MAGE_entrybox=ttk.Entry(win,width=50,textvariable=MAGE_var)\n",
    "MAGE_entrybox.place(x=100,y=170)\n",
    "#Column 7\n",
    "MEDUC=ttk.Label(win,text=\"MEDUC\")\n",
    "MEDUC.place(x=20,y=200)\n",
    "MEDUC_var=tk.StringVar()\n",
    "MEDUC_entrybox=ttk.Entry(win,width=50,textvariable=MEDUC_var)\n",
    "MEDUC_entrybox.place(x=100,y=200)\n",
    "#Column 8\n",
    "CIGNUM=ttk.Label(win,text=\"CIGNUM\")\n",
    "CIGNUM.place(x=20,y=230)\n",
    "CIGNUM_var=tk.StringVar()\n",
    "CIGNUM_entrybox=ttk.Entry(win,width=50,textvariable=CIGNUM_var)\n",
    "CIGNUM_entrybox.place(x=100,y=230)\n",
    "#Column 9\n",
    "MARITAL=ttk.Label(win,text=\"MARITAL\")\n",
    "MARITAL.place(x=20,y=260)\n",
    "MARITAL_var=tk.StringVar()\n",
    "MARITAL_entrybox=ttk.Entry(win,width=50,textvariable=MARITAL_var)\n",
    "MARITAL_entrybox.place(x=100,y=260)\n",
    "#Column 10\n",
    "SEX=ttk.Label(win,text=\"SEX\")\n",
    "SEX.place(x=20,y=290)\n",
    "SEX_var=tk.StringVar()\n",
    "SEX_entrybox=ttk.Entry(win,width=50,textvariable=SEX_var)\n",
    "SEX_entrybox.place(x=100,y=290)\n",
    "OUT_var=tk.StringVar()\n",
    "OUT_entrybox=ttk.Entry(win,width=50,textvariable=OUT_var)\n",
    "OUT_entrybox.place(x=100,y=400)\n",
    "\n",
    "def data_gather():\n",
    "    Weeks=float(WEEKS_var.get())\n",
    "    Gained=float(GAINED_var.get())\n",
    "    Racemom=float(RACEMOM_var.get())\n",
    "    Racedad=float(RACEDAD_var.get())\n",
    "    Visits=float(VISITS_var.get())\n",
    "    Mage=float(MAGE_var.get())\n",
    "    Meduc=float(MEDUC_var.get())\n",
    "    Cignum=float(CIGNUM_var.get())\n",
    "    Marital=float(MARITAL_var.get())\n",
    "    Sex=float(SEX_var.get())\n",
    "    final = [Weeks,Gained,Racemom,Racedad,Visits,Mage,Meduc,Cignum,Marital,Sex]\n",
    "    return final\n",
    "\n",
    "def Output():\n",
    "    global final_value\n",
    "    test1 = [data_gather()]\n",
    "    final_value = reg.predict(test1)\n",
    "    OUT_entrybox.insert(0,final_value[0])\n",
    "    print(final_value[0])\n",
    "    \n",
    "\n",
    "Predict_button=ttk.Button(win,text=\"Predict\",command=Output)\n",
    "Predict_button.place(x=200,y=350)\n",
    "win.mainloop()"
   ]
  },
  {
   "cell_type": "code",
   "execution_count": null,
   "metadata": {},
   "outputs": [],
   "source": []
  }
 ],
 "metadata": {
  "kernelspec": {
   "display_name": "Python 3",
   "language": "python",
   "name": "python3"
  },
  "language_info": {
   "codemirror_mode": {
    "name": "ipython",
    "version": 3
   },
   "file_extension": ".py",
   "mimetype": "text/x-python",
   "name": "python",
   "nbconvert_exporter": "python",
   "pygments_lexer": "ipython3",
   "version": "3.8.5"
  }
 },
 "nbformat": 4,
 "nbformat_minor": 4
}
